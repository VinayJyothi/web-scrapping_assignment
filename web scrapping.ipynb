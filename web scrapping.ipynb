{
 "cells": [
  {
   "cell_type": "code",
   "execution_count": 1,
   "id": "6c75030d",
   "metadata": {},
   "outputs": [],
   "source": [
    "from bs4 import BeautifulSoup as bs\n",
    "import requests"
   ]
  },
  {
   "cell_type": "code",
   "execution_count": 2,
   "id": "60838bc2",
   "metadata": {},
   "outputs": [],
   "source": [
    "url = \"https://quotes.toscrape.com/\""
   ]
  },
  {
   "cell_type": "code",
   "execution_count": 3,
   "id": "477c81a9",
   "metadata": {},
   "outputs": [],
   "source": [
    "response = requests.get(url)"
   ]
  },
  {
   "cell_type": "code",
   "execution_count": 4,
   "id": "b321b5f3",
   "metadata": {},
   "outputs": [
    {
     "data": {
      "text/plain": [
       "200"
      ]
     },
     "execution_count": 4,
     "metadata": {},
     "output_type": "execute_result"
    }
   ],
   "source": [
    "response.status_code"
   ]
  },
  {
   "cell_type": "code",
   "execution_count": 7,
   "id": "1819bc19",
   "metadata": {},
   "outputs": [],
   "source": [
    "soup = bs(response. content, 'html.parser')"
   ]
  },
  {
   "cell_type": "code",
   "execution_count": 8,
   "id": "944c8fdc",
   "metadata": {},
   "outputs": [],
   "source": [
    "quote = soup.find('span' ,class_ = 'text')"
   ]
  },
  {
   "cell_type": "code",
   "execution_count": 10,
   "id": "b70a77af",
   "metadata": {},
   "outputs": [
    {
     "data": {
      "text/plain": [
       "'“The world as we have created it is a process of our thinking. It cannot be changed without changing our thinking.”'"
      ]
     },
     "execution_count": 10,
     "metadata": {},
     "output_type": "execute_result"
    }
   ],
   "source": [
    "quote.text"
   ]
  },
  {
   "cell_type": "code",
   "execution_count": 17,
   "id": "63a0df33",
   "metadata": {},
   "outputs": [],
   "source": [
    "quotes = soup.find_all('span' ,class_ = 'text')"
   ]
  },
  {
   "cell_type": "code",
   "execution_count": 18,
   "id": "cbab5759",
   "metadata": {},
   "outputs": [
    {
     "data": {
      "text/plain": [
       "[<span class=\"text\" itemprop=\"text\">“The world as we have created it is a process of our thinking. It cannot be changed without changing our thinking.”</span>,\n",
       " <span class=\"text\" itemprop=\"text\">“It is our choices, Harry, that show what we truly are, far more than our abilities.”</span>,\n",
       " <span class=\"text\" itemprop=\"text\">“There are only two ways to live your life. One is as though nothing is a miracle. The other is as though everything is a miracle.”</span>,\n",
       " <span class=\"text\" itemprop=\"text\">“The person, be it gentleman or lady, who has not pleasure in a good novel, must be intolerably stupid.”</span>,\n",
       " <span class=\"text\" itemprop=\"text\">“Imperfection is beauty, madness is genius and it's better to be absolutely ridiculous than absolutely boring.”</span>,\n",
       " <span class=\"text\" itemprop=\"text\">“Try not to become a man of success. Rather become a man of value.”</span>,\n",
       " <span class=\"text\" itemprop=\"text\">“It is better to be hated for what you are than to be loved for what you are not.”</span>,\n",
       " <span class=\"text\" itemprop=\"text\">“I have not failed. I've just found 10,000 ways that won't work.”</span>,\n",
       " <span class=\"text\" itemprop=\"text\">“A woman is like a tea bag; you never know how strong it is until it's in hot water.”</span>,\n",
       " <span class=\"text\" itemprop=\"text\">“A day without sunshine is like, you know, night.”</span>]"
      ]
     },
     "execution_count": 18,
     "metadata": {},
     "output_type": "execute_result"
    }
   ],
   "source": [
    "quotes"
   ]
  },
  {
   "cell_type": "code",
   "execution_count": 19,
   "id": "e17f9fe9",
   "metadata": {},
   "outputs": [],
   "source": [
    "quotes = [quote.text[1:-1] for quote in quotes]"
   ]
  },
  {
   "cell_type": "code",
   "execution_count": 21,
   "id": "25b4a6a6",
   "metadata": {},
   "outputs": [
    {
     "data": {
      "text/plain": [
       "['The world as we have created it is a process of our thinking. It cannot be changed without changing our thinking.',\n",
       " 'It is our choices, Harry, that show what we truly are, far more than our abilities.',\n",
       " 'There are only two ways to live your life. One is as though nothing is a miracle. The other is as though everything is a miracle.',\n",
       " 'The person, be it gentleman or lady, who has not pleasure in a good novel, must be intolerably stupid.',\n",
       " \"Imperfection is beauty, madness is genius and it's better to be absolutely ridiculous than absolutely boring.\",\n",
       " 'Try not to become a man of success. Rather become a man of value.',\n",
       " 'It is better to be hated for what you are than to be loved for what you are not.',\n",
       " \"I have not failed. I've just found 10,000 ways that won't work.\",\n",
       " \"A woman is like a tea bag; you never know how strong it is until it's in hot water.\",\n",
       " 'A day without sunshine is like, you know, night.']"
      ]
     },
     "execution_count": 21,
     "metadata": {},
     "output_type": "execute_result"
    }
   ],
   "source": [
    "quotes"
   ]
  },
  {
   "cell_type": "code",
   "execution_count": 22,
   "id": "42deaa61",
   "metadata": {},
   "outputs": [],
   "source": [
    "authors = soup.find_all('small' ,class_ =\"author\" )"
   ]
  },
  {
   "cell_type": "code",
   "execution_count": 23,
   "id": "e6022238",
   "metadata": {},
   "outputs": [
    {
     "data": {
      "text/plain": [
       "[<small class=\"author\" itemprop=\"author\">Albert Einstein</small>,\n",
       " <small class=\"author\" itemprop=\"author\">J.K. Rowling</small>,\n",
       " <small class=\"author\" itemprop=\"author\">Albert Einstein</small>,\n",
       " <small class=\"author\" itemprop=\"author\">Jane Austen</small>,\n",
       " <small class=\"author\" itemprop=\"author\">Marilyn Monroe</small>,\n",
       " <small class=\"author\" itemprop=\"author\">Albert Einstein</small>,\n",
       " <small class=\"author\" itemprop=\"author\">André Gide</small>,\n",
       " <small class=\"author\" itemprop=\"author\">Thomas A. Edison</small>,\n",
       " <small class=\"author\" itemprop=\"author\">Eleanor Roosevelt</small>,\n",
       " <small class=\"author\" itemprop=\"author\">Steve Martin</small>]"
      ]
     },
     "execution_count": 23,
     "metadata": {},
     "output_type": "execute_result"
    }
   ],
   "source": [
    "authors"
   ]
  },
  {
   "cell_type": "code",
   "execution_count": 24,
   "id": "2bc403d9",
   "metadata": {},
   "outputs": [],
   "source": [
    "authors = [author.text for author in authors]"
   ]
  },
  {
   "cell_type": "code",
   "execution_count": 25,
   "id": "7fd66350",
   "metadata": {},
   "outputs": [
    {
     "data": {
      "text/plain": [
       "['Albert Einstein',\n",
       " 'J.K. Rowling',\n",
       " 'Albert Einstein',\n",
       " 'Jane Austen',\n",
       " 'Marilyn Monroe',\n",
       " 'Albert Einstein',\n",
       " 'André Gide',\n",
       " 'Thomas A. Edison',\n",
       " 'Eleanor Roosevelt',\n",
       " 'Steve Martin']"
      ]
     },
     "execution_count": 25,
     "metadata": {},
     "output_type": "execute_result"
    }
   ],
   "source": [
    "authors"
   ]
  },
  {
   "cell_type": "code",
   "execution_count": 26,
   "id": "5abfb404",
   "metadata": {},
   "outputs": [],
   "source": [
    "tags = soup.find_all('div' , class_ = \"tags\")"
   ]
  },
  {
   "cell_type": "code",
   "execution_count": 27,
   "id": "6f0e5523",
   "metadata": {},
   "outputs": [
    {
     "data": {
      "text/plain": [
       "[<div class=\"tags\">\n",
       "             Tags:\n",
       "             <meta class=\"keywords\" content=\"change,deep-thoughts,thinking,world\" itemprop=\"keywords\"/>\n",
       " <a class=\"tag\" href=\"/tag/change/page/1/\">change</a>\n",
       " <a class=\"tag\" href=\"/tag/deep-thoughts/page/1/\">deep-thoughts</a>\n",
       " <a class=\"tag\" href=\"/tag/thinking/page/1/\">thinking</a>\n",
       " <a class=\"tag\" href=\"/tag/world/page/1/\">world</a>\n",
       " </div>,\n",
       " <div class=\"tags\">\n",
       "             Tags:\n",
       "             <meta class=\"keywords\" content=\"abilities,choices\" itemprop=\"keywords\"/>\n",
       " <a class=\"tag\" href=\"/tag/abilities/page/1/\">abilities</a>\n",
       " <a class=\"tag\" href=\"/tag/choices/page/1/\">choices</a>\n",
       " </div>,\n",
       " <div class=\"tags\">\n",
       "             Tags:\n",
       "             <meta class=\"keywords\" content=\"inspirational,life,live,miracle,miracles\" itemprop=\"keywords\"/>\n",
       " <a class=\"tag\" href=\"/tag/inspirational/page/1/\">inspirational</a>\n",
       " <a class=\"tag\" href=\"/tag/life/page/1/\">life</a>\n",
       " <a class=\"tag\" href=\"/tag/live/page/1/\">live</a>\n",
       " <a class=\"tag\" href=\"/tag/miracle/page/1/\">miracle</a>\n",
       " <a class=\"tag\" href=\"/tag/miracles/page/1/\">miracles</a>\n",
       " </div>,\n",
       " <div class=\"tags\">\n",
       "             Tags:\n",
       "             <meta class=\"keywords\" content=\"aliteracy,books,classic,humor\" itemprop=\"keywords\"/>\n",
       " <a class=\"tag\" href=\"/tag/aliteracy/page/1/\">aliteracy</a>\n",
       " <a class=\"tag\" href=\"/tag/books/page/1/\">books</a>\n",
       " <a class=\"tag\" href=\"/tag/classic/page/1/\">classic</a>\n",
       " <a class=\"tag\" href=\"/tag/humor/page/1/\">humor</a>\n",
       " </div>,\n",
       " <div class=\"tags\">\n",
       "             Tags:\n",
       "             <meta class=\"keywords\" content=\"be-yourself,inspirational\" itemprop=\"keywords\"/>\n",
       " <a class=\"tag\" href=\"/tag/be-yourself/page/1/\">be-yourself</a>\n",
       " <a class=\"tag\" href=\"/tag/inspirational/page/1/\">inspirational</a>\n",
       " </div>,\n",
       " <div class=\"tags\">\n",
       "             Tags:\n",
       "             <meta class=\"keywords\" content=\"adulthood,success,value\" itemprop=\"keywords\"/>\n",
       " <a class=\"tag\" href=\"/tag/adulthood/page/1/\">adulthood</a>\n",
       " <a class=\"tag\" href=\"/tag/success/page/1/\">success</a>\n",
       " <a class=\"tag\" href=\"/tag/value/page/1/\">value</a>\n",
       " </div>,\n",
       " <div class=\"tags\">\n",
       "             Tags:\n",
       "             <meta class=\"keywords\" content=\"life,love\" itemprop=\"keywords\"/>\n",
       " <a class=\"tag\" href=\"/tag/life/page/1/\">life</a>\n",
       " <a class=\"tag\" href=\"/tag/love/page/1/\">love</a>\n",
       " </div>,\n",
       " <div class=\"tags\">\n",
       "             Tags:\n",
       "             <meta class=\"keywords\" content=\"edison,failure,inspirational,paraphrased\" itemprop=\"keywords\"/>\n",
       " <a class=\"tag\" href=\"/tag/edison/page/1/\">edison</a>\n",
       " <a class=\"tag\" href=\"/tag/failure/page/1/\">failure</a>\n",
       " <a class=\"tag\" href=\"/tag/inspirational/page/1/\">inspirational</a>\n",
       " <a class=\"tag\" href=\"/tag/paraphrased/page/1/\">paraphrased</a>\n",
       " </div>,\n",
       " <div class=\"tags\">\n",
       "             Tags:\n",
       "             <meta class=\"keywords\" content=\"misattributed-eleanor-roosevelt\" itemprop=\"keywords\"/>\n",
       " <a class=\"tag\" href=\"/tag/misattributed-eleanor-roosevelt/page/1/\">misattributed-eleanor-roosevelt</a>\n",
       " </div>,\n",
       " <div class=\"tags\">\n",
       "             Tags:\n",
       "             <meta class=\"keywords\" content=\"humor,obvious,simile\" itemprop=\"keywords\"/>\n",
       " <a class=\"tag\" href=\"/tag/humor/page/1/\">humor</a>\n",
       " <a class=\"tag\" href=\"/tag/obvious/page/1/\">obvious</a>\n",
       " <a class=\"tag\" href=\"/tag/simile/page/1/\">simile</a>\n",
       " </div>]"
      ]
     },
     "execution_count": 27,
     "metadata": {},
     "output_type": "execute_result"
    }
   ],
   "source": [
    "tags"
   ]
  },
  {
   "cell_type": "code",
   "execution_count": 28,
   "id": "0da874fe",
   "metadata": {},
   "outputs": [
    {
     "data": {
      "text/plain": [
       "<div class=\"tags\">\n",
       "            Tags:\n",
       "            <meta class=\"keywords\" content=\"change,deep-thoughts,thinking,world\" itemprop=\"keywords\"/>\n",
       "<a class=\"tag\" href=\"/tag/change/page/1/\">change</a>\n",
       "<a class=\"tag\" href=\"/tag/deep-thoughts/page/1/\">deep-thoughts</a>\n",
       "<a class=\"tag\" href=\"/tag/thinking/page/1/\">thinking</a>\n",
       "<a class=\"tag\" href=\"/tag/world/page/1/\">world</a>\n",
       "</div>"
      ]
     },
     "execution_count": 28,
     "metadata": {},
     "output_type": "execute_result"
    }
   ],
   "source": [
    "tags[0]"
   ]
  },
  {
   "cell_type": "code",
   "execution_count": 30,
   "id": "ecace13b",
   "metadata": {},
   "outputs": [
    {
     "data": {
      "text/plain": [
       "[<a class=\"tag\" href=\"/tag/change/page/1/\">change</a>,\n",
       " <a class=\"tag\" href=\"/tag/deep-thoughts/page/1/\">deep-thoughts</a>,\n",
       " <a class=\"tag\" href=\"/tag/thinking/page/1/\">thinking</a>,\n",
       " <a class=\"tag\" href=\"/tag/world/page/1/\">world</a>]"
      ]
     },
     "execution_count": 30,
     "metadata": {},
     "output_type": "execute_result"
    }
   ],
   "source": [
    "tags[0].find_all('a' , class_ = \"tag\")"
   ]
  },
  {
   "cell_type": "code",
   "execution_count": 32,
   "id": "cf01c794",
   "metadata": {},
   "outputs": [
    {
     "name": "stdout",
     "output_type": "stream",
     "text": [
      "change\n",
      "deep-thoughts\n",
      "thinking\n",
      "world\n"
     ]
    }
   ],
   "source": [
    "for i in tags[0]. find_all('a' , class_ = \"tag\"):\n",
    "    print(i.text)"
   ]
  },
  {
   "cell_type": "code",
   "execution_count": 43,
   "id": "12803543",
   "metadata": {},
   "outputs": [],
   "source": [
    "total_tags = []\n",
    "for i in range(len(tags)):\n",
    "    k=[]\n",
    "    for j in tags[i].find_all('a' , class_ =\"tag\"):\n",
    "        k.append(j.text)\n",
    "    total_tags.append(','.join(k))"
   ]
  },
  {
   "cell_type": "code",
   "execution_count": 44,
   "id": "ac8ba054",
   "metadata": {},
   "outputs": [
    {
     "data": {
      "text/plain": [
       "['change,deep-thoughts,thinking,world',\n",
       " 'abilities,choices',\n",
       " 'inspirational,life,live,miracle,miracles',\n",
       " 'aliteracy,books,classic,humor',\n",
       " 'be-yourself,inspirational',\n",
       " 'adulthood,success,value',\n",
       " 'life,love',\n",
       " 'edison,failure,inspirational,paraphrased',\n",
       " 'misattributed-eleanor-roosevelt',\n",
       " 'humor,obvious,simile']"
      ]
     },
     "execution_count": 44,
     "metadata": {},
     "output_type": "execute_result"
    }
   ],
   "source": [
    "total_tags"
   ]
  },
  {
   "cell_type": "code",
   "execution_count": 45,
   "id": "1a33b882",
   "metadata": {},
   "outputs": [],
   "source": [
    "import pandas as pd"
   ]
  },
  {
   "cell_type": "code",
   "execution_count": 46,
   "id": "b5d2f430",
   "metadata": {},
   "outputs": [],
   "source": [
    "dataset = pd.DataFrame()"
   ]
  },
  {
   "cell_type": "code",
   "execution_count": 47,
   "id": "0ec0555d",
   "metadata": {},
   "outputs": [],
   "source": [
    "dataset['Quotes'] = quotes"
   ]
  },
  {
   "cell_type": "code",
   "execution_count": 48,
   "id": "82e81329",
   "metadata": {},
   "outputs": [
    {
     "data": {
      "text/html": [
       "<div>\n",
       "<style scoped>\n",
       "    .dataframe tbody tr th:only-of-type {\n",
       "        vertical-align: middle;\n",
       "    }\n",
       "\n",
       "    .dataframe tbody tr th {\n",
       "        vertical-align: top;\n",
       "    }\n",
       "\n",
       "    .dataframe thead th {\n",
       "        text-align: right;\n",
       "    }\n",
       "</style>\n",
       "<table border=\"1\" class=\"dataframe\">\n",
       "  <thead>\n",
       "    <tr style=\"text-align: right;\">\n",
       "      <th></th>\n",
       "      <th>Quotes</th>\n",
       "    </tr>\n",
       "  </thead>\n",
       "  <tbody>\n",
       "    <tr>\n",
       "      <th>0</th>\n",
       "      <td>The world as we have created it is a process o...</td>\n",
       "    </tr>\n",
       "    <tr>\n",
       "      <th>1</th>\n",
       "      <td>It is our choices, Harry, that show what we tr...</td>\n",
       "    </tr>\n",
       "    <tr>\n",
       "      <th>2</th>\n",
       "      <td>There are only two ways to live your life. One...</td>\n",
       "    </tr>\n",
       "    <tr>\n",
       "      <th>3</th>\n",
       "      <td>The person, be it gentleman or lady, who has n...</td>\n",
       "    </tr>\n",
       "    <tr>\n",
       "      <th>4</th>\n",
       "      <td>Imperfection is beauty, madness is genius and ...</td>\n",
       "    </tr>\n",
       "    <tr>\n",
       "      <th>5</th>\n",
       "      <td>Try not to become a man of success. Rather bec...</td>\n",
       "    </tr>\n",
       "    <tr>\n",
       "      <th>6</th>\n",
       "      <td>It is better to be hated for what you are than...</td>\n",
       "    </tr>\n",
       "    <tr>\n",
       "      <th>7</th>\n",
       "      <td>I have not failed. I've just found 10,000 ways...</td>\n",
       "    </tr>\n",
       "    <tr>\n",
       "      <th>8</th>\n",
       "      <td>A woman is like a tea bag; you never know how ...</td>\n",
       "    </tr>\n",
       "    <tr>\n",
       "      <th>9</th>\n",
       "      <td>A day without sunshine is like, you know, night.</td>\n",
       "    </tr>\n",
       "  </tbody>\n",
       "</table>\n",
       "</div>"
      ],
      "text/plain": [
       "                                              Quotes\n",
       "0  The world as we have created it is a process o...\n",
       "1  It is our choices, Harry, that show what we tr...\n",
       "2  There are only two ways to live your life. One...\n",
       "3  The person, be it gentleman or lady, who has n...\n",
       "4  Imperfection is beauty, madness is genius and ...\n",
       "5  Try not to become a man of success. Rather bec...\n",
       "6  It is better to be hated for what you are than...\n",
       "7  I have not failed. I've just found 10,000 ways...\n",
       "8  A woman is like a tea bag; you never know how ...\n",
       "9   A day without sunshine is like, you know, night."
      ]
     },
     "execution_count": 48,
     "metadata": {},
     "output_type": "execute_result"
    }
   ],
   "source": [
    "dataset"
   ]
  },
  {
   "cell_type": "code",
   "execution_count": 49,
   "id": "735722f2",
   "metadata": {},
   "outputs": [
    {
     "data": {
      "text/html": [
       "<div>\n",
       "<style scoped>\n",
       "    .dataframe tbody tr th:only-of-type {\n",
       "        vertical-align: middle;\n",
       "    }\n",
       "\n",
       "    .dataframe tbody tr th {\n",
       "        vertical-align: top;\n",
       "    }\n",
       "\n",
       "    .dataframe thead th {\n",
       "        text-align: right;\n",
       "    }\n",
       "</style>\n",
       "<table border=\"1\" class=\"dataframe\">\n",
       "  <thead>\n",
       "    <tr style=\"text-align: right;\">\n",
       "      <th></th>\n",
       "      <th>Quotes</th>\n",
       "      <th>Quote Tags</th>\n",
       "      <th>Author</th>\n",
       "    </tr>\n",
       "  </thead>\n",
       "  <tbody>\n",
       "    <tr>\n",
       "      <th>0</th>\n",
       "      <td>The world as we have created it is a process o...</td>\n",
       "      <td>change,deep-thoughts,thinking,world</td>\n",
       "      <td>Albert Einstein</td>\n",
       "    </tr>\n",
       "    <tr>\n",
       "      <th>1</th>\n",
       "      <td>It is our choices, Harry, that show what we tr...</td>\n",
       "      <td>abilities,choices</td>\n",
       "      <td>J.K. Rowling</td>\n",
       "    </tr>\n",
       "    <tr>\n",
       "      <th>2</th>\n",
       "      <td>There are only two ways to live your life. One...</td>\n",
       "      <td>inspirational,life,live,miracle,miracles</td>\n",
       "      <td>Albert Einstein</td>\n",
       "    </tr>\n",
       "    <tr>\n",
       "      <th>3</th>\n",
       "      <td>The person, be it gentleman or lady, who has n...</td>\n",
       "      <td>aliteracy,books,classic,humor</td>\n",
       "      <td>Jane Austen</td>\n",
       "    </tr>\n",
       "    <tr>\n",
       "      <th>4</th>\n",
       "      <td>Imperfection is beauty, madness is genius and ...</td>\n",
       "      <td>be-yourself,inspirational</td>\n",
       "      <td>Marilyn Monroe</td>\n",
       "    </tr>\n",
       "    <tr>\n",
       "      <th>5</th>\n",
       "      <td>Try not to become a man of success. Rather bec...</td>\n",
       "      <td>adulthood,success,value</td>\n",
       "      <td>Albert Einstein</td>\n",
       "    </tr>\n",
       "    <tr>\n",
       "      <th>6</th>\n",
       "      <td>It is better to be hated for what you are than...</td>\n",
       "      <td>life,love</td>\n",
       "      <td>André Gide</td>\n",
       "    </tr>\n",
       "    <tr>\n",
       "      <th>7</th>\n",
       "      <td>I have not failed. I've just found 10,000 ways...</td>\n",
       "      <td>edison,failure,inspirational,paraphrased</td>\n",
       "      <td>Thomas A. Edison</td>\n",
       "    </tr>\n",
       "    <tr>\n",
       "      <th>8</th>\n",
       "      <td>A woman is like a tea bag; you never know how ...</td>\n",
       "      <td>misattributed-eleanor-roosevelt</td>\n",
       "      <td>Eleanor Roosevelt</td>\n",
       "    </tr>\n",
       "    <tr>\n",
       "      <th>9</th>\n",
       "      <td>A day without sunshine is like, you know, night.</td>\n",
       "      <td>humor,obvious,simile</td>\n",
       "      <td>Steve Martin</td>\n",
       "    </tr>\n",
       "  </tbody>\n",
       "</table>\n",
       "</div>"
      ],
      "text/plain": [
       "                                              Quotes  \\\n",
       "0  The world as we have created it is a process o...   \n",
       "1  It is our choices, Harry, that show what we tr...   \n",
       "2  There are only two ways to live your life. One...   \n",
       "3  The person, be it gentleman or lady, who has n...   \n",
       "4  Imperfection is beauty, madness is genius and ...   \n",
       "5  Try not to become a man of success. Rather bec...   \n",
       "6  It is better to be hated for what you are than...   \n",
       "7  I have not failed. I've just found 10,000 ways...   \n",
       "8  A woman is like a tea bag; you never know how ...   \n",
       "9   A day without sunshine is like, you know, night.   \n",
       "\n",
       "                                 Quote Tags             Author  \n",
       "0       change,deep-thoughts,thinking,world    Albert Einstein  \n",
       "1                         abilities,choices       J.K. Rowling  \n",
       "2  inspirational,life,live,miracle,miracles    Albert Einstein  \n",
       "3             aliteracy,books,classic,humor        Jane Austen  \n",
       "4                 be-yourself,inspirational     Marilyn Monroe  \n",
       "5                   adulthood,success,value    Albert Einstein  \n",
       "6                                 life,love         André Gide  \n",
       "7  edison,failure,inspirational,paraphrased   Thomas A. Edison  \n",
       "8           misattributed-eleanor-roosevelt  Eleanor Roosevelt  \n",
       "9                      humor,obvious,simile       Steve Martin  "
      ]
     },
     "execution_count": 49,
     "metadata": {},
     "output_type": "execute_result"
    }
   ],
   "source": [
    "dataset['Quotes'] = quotes\n",
    "dataset['Quote Tags'] = total_tags\n",
    "dataset['Author'] = authors\n",
    "dataset"
   ]
  },
  {
   "cell_type": "code",
   "execution_count": 51,
   "id": "0f6f007b",
   "metadata": {},
   "outputs": [],
   "source": [
    "dataset.to_csv('quotes.csv')"
   ]
  },
  {
   "cell_type": "code",
   "execution_count": null,
   "id": "422d30d9",
   "metadata": {},
   "outputs": [],
   "source": []
  }
 ],
 "metadata": {
  "kernelspec": {
   "display_name": "Python 3 (ipykernel)",
   "language": "python",
   "name": "python3"
  },
  "language_info": {
   "codemirror_mode": {
    "name": "ipython",
    "version": 3
   },
   "file_extension": ".py",
   "mimetype": "text/x-python",
   "name": "python",
   "nbconvert_exporter": "python",
   "pygments_lexer": "ipython3",
   "version": "3.7.4"
  }
 },
 "nbformat": 4,
 "nbformat_minor": 5
}
